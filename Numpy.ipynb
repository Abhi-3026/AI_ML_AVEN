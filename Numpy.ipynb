{
  "nbformat": 4,
  "nbformat_minor": 0,
  "metadata": {
    "colab": {
      "provenance": [],
      "authorship_tag": "ABX9TyM5MTJ2aoRl4VTIYIDdv9gm",
      "include_colab_link": true
    },
    "kernelspec": {
      "name": "python3",
      "display_name": "Python 3"
    },
    "language_info": {
      "name": "python"
    }
  },
  "cells": [
    {
      "cell_type": "markdown",
      "metadata": {
        "id": "view-in-github",
        "colab_type": "text"
      },
      "source": [
        "<a href=\"https://colab.research.google.com/github/Abhi-3026/AI_ML_AVEN/blob/main/Numpy.ipynb\" target=\"_parent\"><img src=\"https://colab.research.google.com/assets/colab-badge.svg\" alt=\"Open In Colab\"/></a>"
      ]
    },
    {
      "cell_type": "markdown",
      "source": [
        "Numpy Array by Passing Tuple"
      ],
      "metadata": {
        "id": "3DhahMo4apY2"
      }
    },
    {
      "cell_type": "code",
      "execution_count": null,
      "metadata": {
        "id": "nE-p1awxaS2Y"
      },
      "outputs": [],
      "source": [
        "import numpy as np"
      ]
    },
    {
      "cell_type": "code",
      "source": [
        "n = np.array((1,2,3,4,5))\n",
        "print(n)\n",
        "print(type(n))"
      ],
      "metadata": {
        "colab": {
          "base_uri": "https://localhost:8080/"
        },
        "id": "3QQjslO4bqG2",
        "outputId": "74ff75ad-5986-44e7-fa0e-1316b906aae5"
      },
      "execution_count": null,
      "outputs": [
        {
          "output_type": "stream",
          "name": "stdout",
          "text": [
            "[1 2 3 4 5]\n",
            "<class 'numpy.ndarray'>\n"
          ]
        }
      ]
    },
    {
      "cell_type": "markdown",
      "source": [
        "Numpy Array by Passing List"
      ],
      "metadata": {
        "id": "vzKDSxebb7ef"
      }
    },
    {
      "cell_type": "code",
      "source": [
        "m = np.array([1,2,3,4,5])\n",
        "print(m)\n",
        "print(type(m))"
      ],
      "metadata": {
        "colab": {
          "base_uri": "https://localhost:8080/"
        },
        "id": "0mkOKY_pbzjm",
        "outputId": "39d9c388-73d5-4fa5-bee8-e0f769250a31"
      },
      "execution_count": null,
      "outputs": [
        {
          "output_type": "stream",
          "name": "stdout",
          "text": [
            "[1 2 3 4 5]\n",
            "<class 'numpy.ndarray'>\n"
          ]
        }
      ]
    },
    {
      "cell_type": "markdown",
      "source": [
        "Dimensions in Numpy Array"
      ],
      "metadata": {
        "id": "WctCoabSdpxk"
      }
    },
    {
      "cell_type": "code",
      "source": [
        "# no dimensional array\n",
        "n = np.array(25)\n",
        "print(n)\n",
        "print(\"Dimensions = \", n.ndim)"
      ],
      "metadata": {
        "colab": {
          "base_uri": "https://localhost:8080/"
        },
        "id": "NAUtmad0cHEh",
        "outputId": "afe7d3de-2bc6-4f5d-9b02-c77f95ea6b10"
      },
      "execution_count": null,
      "outputs": [
        {
          "output_type": "stream",
          "name": "stdout",
          "text": [
            "25\n",
            "Dimensions =  0\n"
          ]
        }
      ]
    },
    {
      "cell_type": "code",
      "source": [
        "# One dimensional array\n",
        "n = np.array([10,20,30,40,50])\n",
        "print(n)\n",
        "print(\"Dimensions = \", n.ndim)"
      ],
      "metadata": {
        "colab": {
          "base_uri": "https://localhost:8080/"
        },
        "id": "wh1eIS8XeOgP",
        "outputId": "5213edaf-49b1-4332-8b0a-070a69b425b2"
      },
      "execution_count": null,
      "outputs": [
        {
          "output_type": "stream",
          "name": "stdout",
          "text": [
            "[10 20 30 40 50]\n",
            "Dimensions =  1\n"
          ]
        }
      ]
    },
    {
      "cell_type": "code",
      "source": [
        "# Two dimensional array\n",
        "n = np.array([[10,20,30],[40,50,60]])\n",
        "print(n)\n",
        "print(\"Dimensions = \", n.ndim)"
      ],
      "metadata": {
        "colab": {
          "base_uri": "https://localhost:8080/"
        },
        "id": "-bGu5Eayexfi",
        "outputId": "7c5008c8-dc3f-4ee8-aee6-24ba60e1ae25"
      },
      "execution_count": null,
      "outputs": [
        {
          "output_type": "stream",
          "name": "stdout",
          "text": [
            "[[10 20 30]\n",
            " [40 50 60]]\n",
            "Dimensions =  2\n"
          ]
        }
      ]
    },
    {
      "cell_type": "code",
      "source": [
        "#three dimensional array\n",
        "n= np.array([[[10,20,30],[40,50,60]],[[70,80,90],[100,110,120]]])\n",
        "print(n)\n",
        "print(\"Dimensions = \", n.ndim)\n"
      ],
      "metadata": {
        "colab": {
          "base_uri": "https://localhost:8080/"
        },
        "id": "c-EHCaZBe4Y3",
        "outputId": "931f3afd-7e81-46ee-8c6d-d46e6fb24fd7"
      },
      "execution_count": null,
      "outputs": [
        {
          "output_type": "stream",
          "name": "stdout",
          "text": [
            "[[[ 10  20  30]\n",
            "  [ 40  50  60]]\n",
            "\n",
            " [[ 70  80  90]\n",
            "  [100 110 120]]]\n",
            "Dimensions =  3\n"
          ]
        }
      ]
    },
    {
      "cell_type": "markdown",
      "source": [
        "Intialize Numpy Arrays"
      ],
      "metadata": {
        "id": "Csq84DQgg6A1"
      }
    },
    {
      "source": [
        "import numpy as np\n",
        "\n",
        "n = np.zeros([2,3])\n",
        "print(n)"
      ],
      "cell_type": "code",
      "metadata": {
        "colab": {
          "base_uri": "https://localhost:8080/"
        },
        "id": "dJd5yKQ6hrBG",
        "outputId": "791a59c2-ee90-4813-aba5-8bbdbb2b5fa8"
      },
      "execution_count": null,
      "outputs": [
        {
          "output_type": "stream",
          "name": "stdout",
          "text": [
            "[[0. 0. 0.]\n",
            " [0. 0. 0.]]\n"
          ]
        }
      ]
    },
    {
      "cell_type": "markdown",
      "source": [
        "**DATATYPES**"
      ],
      "metadata": {
        "id": "L2kl7qm7ijjT"
      }
    },
    {
      "cell_type": "code",
      "source": [
        "# Get the datatype of a Numpy Arrays with Integers\n",
        "import numpy as np\n",
        "\n",
        "n = np.array([1,2,3,4,5])\n",
        "print(n.dtype)"
      ],
      "metadata": {
        "colab": {
          "base_uri": "https://localhost:8080/"
        },
        "id": "L4WwD_mghGnw",
        "outputId": "ae988ecf-b3f2-497f-b4ef-75f2b80b4f50"
      },
      "execution_count": null,
      "outputs": [
        {
          "output_type": "stream",
          "name": "stdout",
          "text": [
            "int64\n"
          ]
        }
      ]
    },
    {
      "cell_type": "code",
      "source": [
        "# Get the datatype of a Numpy Arrays with Strings\n",
        "n = np.array([\"abhi\",\"anu\",\"arun\",\"prince\",\"rishu\"])\n",
        "print(n)\n",
        "print(n.dtype)"
      ],
      "metadata": {
        "colab": {
          "base_uri": "https://localhost:8080/"
        },
        "id": "TEwCfCuCi1Py",
        "outputId": "c7038efc-cf9d-4ad0-9277-2e7875ebfd4e"
      },
      "execution_count": null,
      "outputs": [
        {
          "output_type": "stream",
          "name": "stdout",
          "text": [
            "['abhi' 'anu' 'arun' 'prince' 'rishu']\n",
            "<U6\n"
          ]
        }
      ]
    },
    {
      "cell_type": "code",
      "source": [
        "import numpy as np\n",
        "\n",
        "n = np.array([\"abhi\",\"anu\",\"arun\",\"prince\",\"rishu\"], dtype = \"S5\")\n",
        "print(n)\n",
        "print(n.dtype)\n"
      ],
      "metadata": {
        "colab": {
          "base_uri": "https://localhost:8080/"
        },
        "id": "lK2lwZXyjonI",
        "outputId": "91ddf653-1e9b-416a-bdcb-6b115ef40466"
      },
      "execution_count": null,
      "outputs": [
        {
          "output_type": "stream",
          "name": "stdout",
          "text": [
            "[b'abhi' b'anu' b'arun' b'princ' b'rishu']\n",
            "|S5\n"
          ]
        }
      ]
    },
    {
      "cell_type": "code",
      "source": [
        "# Convert one datatype to another\n",
        "import numpy as np\n",
        "\n",
        "n = np.array([1,2,3,4,5])\n",
        "print(n)\n",
        "print(n.dtype)\n",
        "\n",
        "new = n.astype(\"f\")\n",
        "print(new)\n",
        "print(new.dtype)"
      ],
      "metadata": {
        "colab": {
          "base_uri": "https://localhost:8080/"
        },
        "id": "gXNavadSj_k1",
        "outputId": "31faf0f1-440c-461a-8a15-857eea064d09"
      },
      "execution_count": null,
      "outputs": [
        {
          "output_type": "stream",
          "name": "stdout",
          "text": [
            "[1 2 3 4 5]\n",
            "int64\n",
            "[1. 2. 3. 4. 5.]\n",
            "float32\n"
          ]
        }
      ]
    },
    {
      "cell_type": "markdown",
      "source": [
        "**INDEXING**"
      ],
      "metadata": {
        "id": "ZWCdHdSumNbe"
      }
    },
    {
      "cell_type": "code",
      "source": [
        "# Accessing the 1st element (index 0) from an 1d Array\n",
        "import numpy as np\n",
        "\n",
        "n = np.array([1,2,3,4,5])\n",
        "print(n[0])\n",
        "\n",
        "# Accessing the 4th element (index 0 ) from a 1d array\n",
        "\n",
        "print(n[3])"
      ],
      "metadata": {
        "colab": {
          "base_uri": "https://localhost:8080/"
        },
        "id": "sNCv8EBOlGwQ",
        "outputId": "383cf6b5-c9b7-4369-eb7a-64a7b7475c5a"
      },
      "execution_count": null,
      "outputs": [
        {
          "output_type": "stream",
          "name": "stdout",
          "text": [
            "1\n",
            "4\n"
          ]
        }
      ]
    },
    {
      "cell_type": "code",
      "source": [
        "# Accessing the elements in 2d array\n",
        "n = np.array([[1,2,3],[4,5,6]])\n",
        "print(n)\n",
        "print(n[0,0])\n",
        "print(n[0,1])\n",
        "print(n[1,0])\n",
        "print(n[1,1])"
      ],
      "metadata": {
        "colab": {
          "base_uri": "https://localhost:8080/"
        },
        "id": "W-iZHJSOmgCi",
        "outputId": "15d2c964-482b-4bd8-bdf9-0c8d7120fe76"
      },
      "execution_count": null,
      "outputs": [
        {
          "output_type": "stream",
          "name": "stdout",
          "text": [
            "[[1 2 3]\n",
            " [4 5 6]]\n",
            "1\n",
            "2\n",
            "4\n",
            "5\n"
          ]
        }
      ]
    },
    {
      "cell_type": "code",
      "source": [
        "# Creating a 3D array (list of lists of lists)\n",
        "array_3d = [[[1, 2, 3],[4, 5, 6]],[[7, 8, 9],[10, 11, 12]]]\n",
        "print(array_3d)\n",
        "# Accessing elements\n",
        "# Access the element in the first row, first column, first depth (1)\n",
        "element_1 = array_3d[0][0][0]\n",
        "print(element_1)  # Output: 1\n",
        "\n",
        "# Access the element in the second row, second column, third depth (12)\n",
        "element_2 = array_3d[1][1][2]\n",
        "print(element_2)  # Output: 12\n"
      ],
      "metadata": {
        "colab": {
          "base_uri": "https://localhost:8080/"
        },
        "id": "14W-VKtYn8wX",
        "outputId": "048524ee-2769-4246-c4d1-28d5200bc26a"
      },
      "execution_count": null,
      "outputs": [
        {
          "output_type": "stream",
          "name": "stdout",
          "text": [
            "[[[1, 2, 3], [4, 5, 6]], [[7, 8, 9], [10, 11, 12]]]\n",
            "1\n",
            "12\n"
          ]
        }
      ]
    },
    {
      "cell_type": "code",
      "source": [
        "# NEGATIVE INDEXING\n",
        "# USING 1D ARRAY\n",
        "n = np.array([1,2,3,4,5])\n",
        "print(n[-1])\n",
        "\n",
        "# USING 2D ARRAY\n",
        "n = np.array([[1,2,3],[4,5,6]])\n",
        "print(n[0,-1])"
      ],
      "metadata": {
        "colab": {
          "base_uri": "https://localhost:8080/"
        },
        "id": "ehZZjK1epbMj",
        "outputId": "4f23d7a8-f271-4e22-a7cd-d7601d047e7e"
      },
      "execution_count": null,
      "outputs": [
        {
          "output_type": "stream",
          "name": "stdout",
          "text": [
            "5\n",
            "3\n"
          ]
        }
      ]
    },
    {
      "cell_type": "code",
      "source": [
        "# Creating a 3D array (list of lists of lists)\n",
        "array_3d = [[[1, 2, 3],[4, 5, 6]],[[7, 8, 9],[10, 11, 12]]]\n",
        "\n",
        "# Accessing elements using negative indexing\n",
        "# Access the element in the last row, last column, last depth (12)\n",
        "element_1 = array_3d[-1][-1][-1]\n",
        "print(element_1)  # Output: 12\n",
        "\n",
        "# Access the element in the first row, last column, last depth (6)\n",
        "element_2 = array_3d[0][-1][-1]\n",
        "print(element_2)  # Output: 6\n",
        "\n",
        "# Access the element in the last row, first column, first depth (7)\n",
        "element_3 = array_3d[-1][0][0]\n",
        "print(element_3)  # Output: 7\n"
      ],
      "metadata": {
        "colab": {
          "base_uri": "https://localhost:8080/"
        },
        "id": "Us6wrI4cqich",
        "outputId": "e6a442df-5e81-411c-dabf-175b898c1482"
      },
      "execution_count": null,
      "outputs": [
        {
          "output_type": "stream",
          "name": "stdout",
          "text": [
            "12\n",
            "6\n",
            "7\n"
          ]
        }
      ]
    },
    {
      "cell_type": "markdown",
      "source": [
        "**SLICING**"
      ],
      "metadata": {
        "id": "E3RGnw0mk9Ze"
      }
    },
    {
      "cell_type": "code",
      "source": [
        "#Slicing from index 1 to 3 (3 excluded)\n",
        "import numpy as np\n",
        "\n",
        "n = np.array([1,2,3,4,5,6,7,8,9,10])\n",
        "print(n[1:3])\n",
        "\n",
        "# Slicing from index 2 to 5 (5 exclude)\n",
        "n = np.array([1,2,3,4,5,6,7,8,9,10])\n",
        "print(n[2:5])\n",
        "\n",
        "# Slicing from index 5 to Last\n",
        "n = np.array([1,2,3,4,5,6,7,8,9,10])\n",
        "print(n[5:])\n",
        "\n",
        "# Slicing from beginning to index 5 (5 is excluded)\n",
        "n = np.array([1,2,3,4,5,6,7,8,9,10])\n",
        "print(n[:5])"
      ],
      "metadata": {
        "colab": {
          "base_uri": "https://localhost:8080/"
        },
        "id": "uiQJdo9rlAC1",
        "outputId": "436b9c61-04d2-4e3f-9ded-c799e826b12d"
      },
      "execution_count": null,
      "outputs": [
        {
          "output_type": "stream",
          "name": "stdout",
          "text": [
            "[2 3]\n",
            "[3 4 5]\n",
            "[ 6  7  8  9 10]\n",
            "[1 2 3 4 5]\n"
          ]
        }
      ]
    },
    {
      "cell_type": "markdown",
      "source": [
        "Slicing 1D Array"
      ],
      "metadata": {
        "id": "SrcdDkGJnfqc"
      }
    },
    {
      "cell_type": "code",
      "source": [
        "import numpy as np\n",
        "\n",
        "n = np.array([1,2,3,4,5,6,7,8,9,10])\n",
        "print(n[1:8:2])"
      ],
      "metadata": {
        "colab": {
          "base_uri": "https://localhost:8080/"
        },
        "id": "JgR6-c_tlHG-",
        "outputId": "9abec3ea-26af-42c4-cc19-8a5120a5775f"
      },
      "execution_count": null,
      "outputs": [
        {
          "output_type": "stream",
          "name": "stdout",
          "text": [
            "[2 4 6 8]\n"
          ]
        }
      ]
    },
    {
      "cell_type": "markdown",
      "source": [
        "Slicing 2D Array"
      ],
      "metadata": {
        "id": "NSR76XFdn4--"
      }
    },
    {
      "cell_type": "code",
      "source": [
        "n = np.array([[1,2,3,4,5],[6,7,8,9,10]])\n",
        "print(n)\n",
        "print(n[1,1:4])\n",
        "\n",
        "#Slicing the both dimensions in array\n",
        "n = np.array([[1,2,3,4,5],[6,7,8,9,10]])\n",
        "print(n[0:2,2:5])"
      ],
      "metadata": {
        "colab": {
          "base_uri": "https://localhost:8080/"
        },
        "id": "z1uU5z3qnvjy",
        "outputId": "7da4d8ff-d452-4591-ab6f-934697cf7756"
      },
      "execution_count": null,
      "outputs": [
        {
          "output_type": "stream",
          "name": "stdout",
          "text": [
            "[[ 1  2  3  4  5]\n",
            " [ 6  7  8  9 10]]\n",
            "[7 8 9]\n",
            "[[ 3  4  5]\n",
            " [ 8  9 10]]\n"
          ]
        }
      ]
    },
    {
      "cell_type": "markdown",
      "source": [
        "**NUMPY ARRAY SHAPE**"
      ],
      "metadata": {
        "id": "wV-Uiq7vpuCD"
      }
    },
    {
      "cell_type": "markdown",
      "source": [
        "Zero dimesional array"
      ],
      "metadata": {
        "id": "O527sqPgqfS1"
      }
    },
    {
      "cell_type": "code",
      "source": [
        "# Check the shape of zero- dimensional array\n",
        "n = np.array(25)\n",
        "print(n)\n",
        "print(n.ndim)\n",
        "print(n.shape)"
      ],
      "metadata": {
        "colab": {
          "base_uri": "https://localhost:8080/"
        },
        "id": "gI38c6sYoEi6",
        "outputId": "c02b471c-cf89-4fe7-a05d-b133ae87498a"
      },
      "execution_count": null,
      "outputs": [
        {
          "output_type": "stream",
          "name": "stdout",
          "text": [
            "25\n",
            "0\n",
            "()\n"
          ]
        }
      ]
    },
    {
      "cell_type": "markdown",
      "source": [
        "Shape of a 1D array"
      ],
      "metadata": {
        "id": "2QsJpn2Iqicn"
      }
    },
    {
      "cell_type": "code",
      "source": [
        "n = np.array([1,2,3,4,5])\n",
        "print(n)\n",
        "print(n.ndim)\n",
        "print(n.shape)"
      ],
      "metadata": {
        "colab": {
          "base_uri": "https://localhost:8080/"
        },
        "id": "Icyy_LIZqOWc",
        "outputId": "fdd96e31-1b12-4a59-b0a8-01bdd93ef3ca"
      },
      "execution_count": null,
      "outputs": [
        {
          "output_type": "stream",
          "name": "stdout",
          "text": [
            "[1 2 3 4 5]\n",
            "1\n",
            "(5,)\n"
          ]
        }
      ]
    },
    {
      "cell_type": "markdown",
      "source": [
        "Shape of 2D array"
      ],
      "metadata": {
        "id": "YfWEZHkRqrOG"
      }
    },
    {
      "cell_type": "code",
      "source": [
        "n = np.array([[1,2,3],[4,5,6]])\n",
        "print(n)\n",
        "print(n.ndim)\n",
        "print(n.shape)"
      ],
      "metadata": {
        "colab": {
          "base_uri": "https://localhost:8080/"
        },
        "id": "W3ZImfcDqqQP",
        "outputId": "ee553694-8e5d-40c8-9672-bf4c042a837f"
      },
      "execution_count": null,
      "outputs": [
        {
          "output_type": "stream",
          "name": "stdout",
          "text": [
            "[[1 2 3]\n",
            " [4 5 6]]\n",
            "2\n",
            "(2, 3)\n"
          ]
        }
      ]
    },
    {
      "cell_type": "markdown",
      "source": [
        "Shape of 3D dimensional array"
      ],
      "metadata": {
        "id": "s8ktSROdqywI"
      }
    },
    {
      "cell_type": "code",
      "source": [
        "n = np.array([[[1,2,3],[4,5,6]],[[7,8,9],[10,11,12]]])\n",
        "print(n)\n",
        "print(n.ndim)\n",
        "print(n.shape)"
      ],
      "metadata": {
        "colab": {
          "base_uri": "https://localhost:8080/"
        },
        "id": "n7Ul2dPLqxDe",
        "outputId": "496a7ff8-5465-4b2d-fe84-6622ac54a15d"
      },
      "execution_count": null,
      "outputs": [
        {
          "output_type": "stream",
          "name": "stdout",
          "text": [
            "[[[ 1  2  3]\n",
            "  [ 4  5  6]]\n",
            "\n",
            " [[ 7  8  9]\n",
            "  [10 11 12]]]\n",
            "3\n",
            "(2, 2, 3)\n"
          ]
        }
      ]
    },
    {
      "cell_type": "markdown",
      "source": [
        "**RESHAPE**"
      ],
      "metadata": {
        "id": "Wi2O0L5A5PaK"
      }
    },
    {
      "cell_type": "code",
      "source": [
        "# Reshaping 1D array to 2D array\n",
        "import numpy as np\n",
        "\n",
        "n = np.array([1,2,3,4,5,6,7,8,9,10])\n",
        "print(\"One dimensional array = \", n)\n",
        "\n",
        "#Reshape\n",
        "resarr = n.reshape(2,5)\n",
        "print(\"Reshaped array = \", resarr)"
      ],
      "metadata": {
        "colab": {
          "base_uri": "https://localhost:8080/"
        },
        "id": "lhAar9x5q-nK",
        "outputId": "44876efa-48c2-4a78-fa37-9c655b4b73ac"
      },
      "execution_count": null,
      "outputs": [
        {
          "output_type": "stream",
          "name": "stdout",
          "text": [
            "One dimensional array =  [ 1  2  3  4  5  6  7  8  9 10]\n",
            "Reshaped array =  [[ 1  2  3  4  5]\n",
            " [ 6  7  8  9 10]]\n"
          ]
        }
      ]
    },
    {
      "cell_type": "code",
      "source": [
        "# Reshaping 3D to 1D array\n",
        "\n",
        "n = np.array([[[1,2,3],[4,5,6]],[[7,8,9],[10,11,12]]])\n",
        "print(\"3D array = \", n)\n",
        "\n",
        "#Reshape\n",
        "resarr = n.reshape(-1)\n",
        "print(\"Reshaped array = \", resarr)"
      ],
      "metadata": {
        "colab": {
          "base_uri": "https://localhost:8080/"
        },
        "id": "J68DUZVR5qOL",
        "outputId": "2ebbf3fa-ecb1-4617-e721-df49fa178f5a"
      },
      "execution_count": null,
      "outputs": [
        {
          "output_type": "stream",
          "name": "stdout",
          "text": [
            "3D array =  [[[ 1  2  3]\n",
            "  [ 4  5  6]]\n",
            "\n",
            " [[ 7  8  9]\n",
            "  [10 11 12]]]\n",
            "Reshaped array =  [ 1  2  3  4  5  6  7  8  9 10 11 12]\n"
          ]
        }
      ]
    },
    {
      "cell_type": "markdown",
      "source": [
        "**ITERATE NUMPY ARRAY**S"
      ],
      "metadata": {
        "id": "MZ3cWdBj--Mh"
      }
    },
    {
      "cell_type": "code",
      "source": [
        "# Iterate 1D array\n",
        "import numpy as np\n",
        "n = np.array([1,2,3,4,5,6])\n",
        "print(\"Iterating\\n\")\n",
        "for i in n:\n",
        "  print(i)\n",
        "\n",
        "print(\"Type = \", type(n))\n",
        "print(\"Datatype =\", type(n.dtype))\n",
        "print(\"Dimensions = \", n.ndim)\n",
        "print(\"Shape = \", n.shape)"
      ],
      "metadata": {
        "colab": {
          "base_uri": "https://localhost:8080/"
        },
        "id": "-Ms5pgTi8CLD",
        "outputId": "57465c59-09a8-4a5a-ab04-b2249b898426"
      },
      "execution_count": null,
      "outputs": [
        {
          "output_type": "stream",
          "name": "stdout",
          "text": [
            "Iterating\n",
            "\n",
            "1\n",
            "2\n",
            "3\n",
            "4\n",
            "5\n",
            "6\n",
            "Type =  <class 'numpy.ndarray'>\n",
            "Datatype = <class 'numpy.dtypes.Int64DType'>\n",
            "Dimensions =  1\n",
            "Shape =  (6,)\n"
          ]
        }
      ]
    },
    {
      "cell_type": "code",
      "source": [
        "# Iterate 2D array\n",
        "import numpy as np\n",
        "n = np.array([[1,2,3],[4,5,6]])\n",
        "print(\"Iterating\\n\")\n",
        "for i in n:\n",
        "  print(i)\n",
        "\n",
        "print(\"Type = \", type(n))\n",
        "print(\"Datatype =\", type(n.dtype))\n",
        "print(\"Dimensions = \", n.ndim)\n",
        "print(\"Shape = \", n.shape)"
      ],
      "metadata": {
        "colab": {
          "base_uri": "https://localhost:8080/"
        },
        "id": "SYu7poVG_aYw",
        "outputId": "8ffa69ae-e327-4e47-8b22-ec7285c837b1"
      },
      "execution_count": null,
      "outputs": [
        {
          "output_type": "stream",
          "name": "stdout",
          "text": [
            "Iterating\n",
            "\n",
            "[1 2 3]\n",
            "[4 5 6]\n",
            "Type =  <class 'numpy.ndarray'>\n",
            "Datatype = <class 'numpy.dtypes.Int64DType'>\n",
            "Dimensions =  2\n",
            "Shape =  (2, 3)\n"
          ]
        }
      ]
    },
    {
      "cell_type": "code",
      "source": [
        "# Iterate 3D array\n",
        "import numpy as np\n",
        "n = np.array([[[1,2,3],[4,5,6]],[[7,8,9],[10,11,12]]])\n",
        "print(\"Iterating\\n\")\n",
        "for i in n:\n",
        "  print(i)\n",
        "\n",
        "print(\"Type = \", type(n))\n",
        "print(\"Datatype =\", type(n.dtype))\n",
        "print(\"Dimensions = \", n.ndim)\n",
        "print(\"Shape = \", n.shape)"
      ],
      "metadata": {
        "colab": {
          "base_uri": "https://localhost:8080/"
        },
        "id": "3XSQjkczAKxt",
        "outputId": "f98055cb-27c1-41e5-9187-461c302d47a2"
      },
      "execution_count": null,
      "outputs": [
        {
          "output_type": "stream",
          "name": "stdout",
          "text": [
            "Iterating\n",
            "\n",
            "[[1 2 3]\n",
            " [4 5 6]]\n",
            "[[ 7  8  9]\n",
            " [10 11 12]]\n",
            "Type =  <class 'numpy.ndarray'>\n",
            "Datatype = <class 'numpy.dtypes.Int64DType'>\n",
            "Dimensions =  3\n",
            "Shape =  (2, 2, 3)\n"
          ]
        }
      ]
    },
    {
      "cell_type": "markdown",
      "source": [
        "**JOINING NUMPY ARRAYS**"
      ],
      "metadata": {
        "id": "qkOuIzTPMIoo"
      }
    },
    {
      "cell_type": "markdown",
      "source": [
        "1. Concatenate() method"
      ],
      "metadata": {
        "id": "sT28jCICMN1l"
      }
    },
    {
      "cell_type": "code",
      "source": [
        "import numpy as np\n",
        "\n",
        "n1 = np.array([1,2,3,4,5])\n",
        "n2 = np.array([6,7,8,9,10])\n",
        "\n",
        "print(\"Iterating array 1\")\n",
        "for i in n1:\n",
        "  print(i)\n",
        "\n",
        "print(\"Iterating array 2\")\n",
        "for i in n2:\n",
        "  print(i)\n",
        "\n",
        "# Concatenate\n",
        "resarr = np.concatenate((n1,n2))\n",
        "print(\"Concatenated array = \",resarr)\n",
        "print(i)"
      ],
      "metadata": {
        "colab": {
          "base_uri": "https://localhost:8080/"
        },
        "id": "YqaiV8oiAgH0",
        "outputId": "294e149a-c956-409a-d11f-a9f3e05cf9f0"
      },
      "execution_count": null,
      "outputs": [
        {
          "output_type": "stream",
          "name": "stdout",
          "text": [
            "Iterating array 1\n",
            "1\n",
            "2\n",
            "3\n",
            "4\n",
            "5\n",
            "Iterating array 2\n",
            "6\n",
            "7\n",
            "8\n",
            "9\n",
            "10\n",
            "Concatenated array =  [ 1  2  3  4  5  6  7  8  9 10]\n",
            "10\n"
          ]
        }
      ]
    },
    {
      "cell_type": "markdown",
      "source": [
        "2. Stack method"
      ],
      "metadata": {
        "id": "L4XWIFqUN_Xx"
      }
    },
    {
      "cell_type": "code",
      "source": [
        "import numpy as np\n",
        "\n",
        "n1 = np.array([1,2,3,4,5])\n",
        "n2 = np.array([6,7,8,9,10])\n",
        "\n",
        "print(\"Iterating array 1\")\n",
        "for i in n1:\n",
        "  print(i)\n",
        "\n",
        "print(\"Iterating array 2\")\n",
        "for i in n2:\n",
        "  print(i)\n",
        "\n",
        "resarr = np.stack((n1,n2))\n",
        "print(\"Stack array = \",resarr)\n"
      ],
      "metadata": {
        "colab": {
          "base_uri": "https://localhost:8080/"
        },
        "id": "Ye8OGVGWMcqv",
        "outputId": "7918a20b-e798-4dd6-9ca1-5201a4c863a8"
      },
      "execution_count": null,
      "outputs": [
        {
          "output_type": "stream",
          "name": "stdout",
          "text": [
            "Iterating array 1\n",
            "1\n",
            "2\n",
            "3\n",
            "4\n",
            "5\n",
            "Iterating array 2\n",
            "6\n",
            "7\n",
            "8\n",
            "9\n",
            "10\n",
            "Stack array =  [[ 1  2  3  4  5]\n",
            " [ 6  7  8  9 10]]\n"
          ]
        }
      ]
    },
    {
      "cell_type": "markdown",
      "source": [
        "i. hstack()"
      ],
      "metadata": {
        "id": "8EZlSwTNPhP8"
      }
    },
    {
      "cell_type": "code",
      "source": [
        "import numpy as np\n",
        "\n",
        "n1 = np.array([1,2,3,4,5])\n",
        "n2 = np.array([6,7,8,9,10])\n",
        "\n",
        "print(\"Iterating array 1\")\n",
        "for i in n1:\n",
        "  print(i)\n",
        "\n",
        "print(\"Iterating array 2\")\n",
        "for i in n2:\n",
        "  print(i)\n",
        "\n",
        "resarr = np.hstack((n1,n2))\n",
        "print(\"After joining along rows =\\n\",resarr)"
      ],
      "metadata": {
        "colab": {
          "base_uri": "https://localhost:8080/"
        },
        "id": "llX7nF0TPI94",
        "outputId": "33d5a5f1-6af0-4481-8a8c-0ceb1b8bbebc"
      },
      "execution_count": null,
      "outputs": [
        {
          "output_type": "stream",
          "name": "stdout",
          "text": [
            "Iterating array 1\n",
            "1\n",
            "2\n",
            "3\n",
            "4\n",
            "5\n",
            "Iterating array 2\n",
            "6\n",
            "7\n",
            "8\n",
            "9\n",
            "10\n",
            "After joining along rows =\n",
            " [ 1  2  3  4  5  6  7  8  9 10]\n"
          ]
        }
      ]
    },
    {
      "cell_type": "markdown",
      "source": [
        "ii. Vstack()"
      ],
      "metadata": {
        "id": "opLrrI2pQmWD"
      }
    },
    {
      "cell_type": "code",
      "source": [
        "import numpy as np\n",
        "\n",
        "n1 = np.array([1,2,3,4,5])\n",
        "n2 = np.array([6,7,8,9,10])\n",
        "\n",
        "print(\"Iterating array 1\")\n",
        "for i in n1:\n",
        "  print(i)\n",
        "\n",
        "print(\"Iterating array 2\")\n",
        "for i in n2:\n",
        "  print(i)\n",
        "\n",
        "resarr = np.vstack((n1,n2))\n",
        "print(\"After joining along columns =\\n\",resarr)"
      ],
      "metadata": {
        "colab": {
          "base_uri": "https://localhost:8080/"
        },
        "id": "OFKKxorrQQrU",
        "outputId": "a131b33c-5e5d-4458-8626-37d910864a9e"
      },
      "execution_count": null,
      "outputs": [
        {
          "output_type": "stream",
          "name": "stdout",
          "text": [
            "Iterating array 1\n",
            "1\n",
            "2\n",
            "3\n",
            "4\n",
            "5\n",
            "Iterating array 2\n",
            "6\n",
            "7\n",
            "8\n",
            "9\n",
            "10\n",
            "After joining along columns =\n",
            " [[ 1  2  3  4  5]\n",
            " [ 6  7  8  9 10]]\n"
          ]
        }
      ]
    },
    {
      "cell_type": "markdown",
      "source": [
        "iii. dstack"
      ],
      "metadata": {
        "id": "rxCuzxfoRQnQ"
      }
    },
    {
      "cell_type": "code",
      "source": [
        "import numpy as np\n",
        "\n",
        "n1 = np.array([1,2,3,4,5])\n",
        "n2 = np.array([6,7,8,9,10])\n",
        "\n",
        "print(\"Iterating array 1\")\n",
        "for i in n1:\n",
        "  print(i)\n",
        "\n",
        "print(\"Iterating array 2\")\n",
        "for i in n2:\n",
        "  print(i)\n",
        "\n",
        "resarr = np.dstack((n1,n2))\n",
        "print(\"After joining along depth =\\n\",resarr)"
      ],
      "metadata": {
        "colab": {
          "base_uri": "https://localhost:8080/"
        },
        "id": "OXkwTK-JQwpX",
        "outputId": "98de2fcf-b468-4e58-9fa2-b7e866fe2151"
      },
      "execution_count": null,
      "outputs": [
        {
          "output_type": "stream",
          "name": "stdout",
          "text": [
            "Iterating array 1\n",
            "1\n",
            "2\n",
            "3\n",
            "4\n",
            "5\n",
            "Iterating array 2\n",
            "6\n",
            "7\n",
            "8\n",
            "9\n",
            "10\n",
            "After joining along depth =\n",
            " [[[ 1  6]\n",
            "  [ 2  7]\n",
            "  [ 3  8]\n",
            "  [ 4  9]\n",
            "  [ 5 10]]]\n"
          ]
        }
      ]
    },
    {
      "cell_type": "markdown",
      "source": [
        "iv. Column_stack"
      ],
      "metadata": {
        "id": "8YBTHOELSHCU"
      }
    },
    {
      "cell_type": "code",
      "source": [
        "import numpy as np\n",
        "\n",
        "n1 = np.array([1,2,3,4,5])\n",
        "n2 = np.array([6,7,8,9,10])\n",
        "\n",
        "print(\"Iterating array 1\")\n",
        "for i in n1:\n",
        "  print(i)\n",
        "\n",
        "print(\"Iterating array 2\")\n",
        "for i in n2:\n",
        "  print(i)\n",
        "\n",
        "resarr = np.column_stack((n1,n2))\n",
        "print(\"After joining along columns =\\n\",resarr)"
      ],
      "metadata": {
        "colab": {
          "base_uri": "https://localhost:8080/"
        },
        "id": "XZfr2G4tRWDB",
        "outputId": "fb116464-0808-402d-f459-b0f6aea68ba4"
      },
      "execution_count": null,
      "outputs": [
        {
          "output_type": "stream",
          "name": "stdout",
          "text": [
            "Iterating array 1\n",
            "1\n",
            "2\n",
            "3\n",
            "4\n",
            "5\n",
            "Iterating array 2\n",
            "6\n",
            "7\n",
            "8\n",
            "9\n",
            "10\n",
            "After joining along columns =\n",
            " [[ 1  6]\n",
            " [ 2  7]\n",
            " [ 3  8]\n",
            " [ 4  9]\n",
            " [ 5 10]]\n"
          ]
        }
      ]
    },
    {
      "cell_type": "markdown",
      "source": [
        "**SPLIT NUMPY_ARRAY**"
      ],
      "metadata": {
        "id": "WmLvbRx9TlMX"
      }
    },
    {
      "cell_type": "code",
      "source": [
        "# Split 1D array in numpy\n",
        "import numpy as np\n",
        "\n",
        "n = np.array([1,2,3,4,5,6,7,8,9,10])\n",
        "print(\"Iterating Array....\")\n",
        "for a in n:\n",
        "  print(a)\n",
        "\n",
        "resarr = np.array_split(n,5)\n",
        "print(\"Splitted array = \",resarr)\n",
        "\n",
        "for a in resarr:\n",
        "  print(a)"
      ],
      "metadata": {
        "colab": {
          "base_uri": "https://localhost:8080/"
        },
        "id": "BlvY4JjNSPkL",
        "outputId": "aedb7938-ca1f-4d71-f6e5-5823f0c1bb37"
      },
      "execution_count": null,
      "outputs": [
        {
          "output_type": "stream",
          "name": "stdout",
          "text": [
            "Iterating Array....\n",
            "1\n",
            "2\n",
            "3\n",
            "4\n",
            "5\n",
            "6\n",
            "7\n",
            "8\n",
            "9\n",
            "10\n",
            "Splitted array =  [array([1, 2]), array([3, 4]), array([5, 6]), array([7, 8]), array([ 9, 10])]\n",
            "[1 2]\n",
            "[3 4]\n",
            "[5 6]\n",
            "[7 8]\n",
            "[ 9 10]\n"
          ]
        }
      ]
    },
    {
      "cell_type": "code",
      "source": [
        "# Access a split 1D array in NUMPY\n",
        "import numpy as np\n",
        "\n",
        "n = np.array([1,2,3,4,5,6,7,8,9,10])\n",
        "print(\"Iterating Array....\")\n",
        "for a in n:\n",
        "  print(a)\n",
        "\n",
        "resarr = np.array_split(n,5)\n",
        "print(\"\\n Access splitted array individually...\")\n",
        "print(  resarr[0]  )\n",
        "print(  resarr[1]  )\n",
        "print(  resarr[2]  )\n",
        "print(  resarr[3]  )\n",
        "print(  resarr[4]  )"
      ],
      "metadata": {
        "colab": {
          "base_uri": "https://localhost:8080/"
        },
        "id": "9TvbKZJPW5zh",
        "outputId": "b564cc54-dd20-4cab-ccaf-1ae0f807b4c9"
      },
      "execution_count": null,
      "outputs": [
        {
          "output_type": "stream",
          "name": "stdout",
          "text": [
            "Iterating Array....\n",
            "1\n",
            "2\n",
            "3\n",
            "4\n",
            "5\n",
            "6\n",
            "7\n",
            "8\n",
            "9\n",
            "10\n",
            "\n",
            " Access splitted array individually...\n",
            "[1 2]\n",
            "[3 4]\n",
            "[5 6]\n",
            "[7 8]\n",
            "[ 9 10]\n"
          ]
        }
      ]
    },
    {
      "cell_type": "code",
      "source": [
        "# split a 2D array in numpy and access it\n",
        "import numpy as np\n",
        "\n",
        "n = np.array([[1, 3, 5],[4, 8, 12]])\n",
        "print(\"Iterating Array....\")\n",
        "for a in n:\n",
        "  print(a)\n",
        "\n",
        "resarr = np.array_split(n,2)\n",
        "print(resarr)\n",
        "\n",
        "print(\"\\n Access splitted array individually...\")\n",
        "print(resarr[0])\n",
        "print(resarr[1])"
      ],
      "metadata": {
        "colab": {
          "base_uri": "https://localhost:8080/"
        },
        "id": "nAl4Elr2YP33",
        "outputId": "34de4995-2030-4420-ce0e-36431a0c01a9"
      },
      "execution_count": null,
      "outputs": [
        {
          "output_type": "stream",
          "name": "stdout",
          "text": [
            "Iterating Array....\n",
            "[1 3 5]\n",
            "[ 4  8 12]\n",
            "[array([[1, 3, 5]]), array([[ 4,  8, 12]])]\n",
            "\n",
            " Access splitted array individually...\n",
            "[[1 3 5]]\n",
            "[[ 4  8 12]]\n"
          ]
        }
      ]
    },
    {
      "cell_type": "markdown",
      "source": [
        "**Search a Numpy Array for a** **Value**"
      ],
      "metadata": {
        "id": "92SKZH6en34e"
      }
    },
    {
      "cell_type": "code",
      "source": [
        "import numpy as np\n",
        "n = np.array([10, 20, 30, 40, 50, 30])\n",
        "\n",
        "print(\"Iterating Array....\")\n",
        "for a in n:\n",
        "  print(a)\n",
        "\n",
        "resarr = np.where(n == 30)\n",
        "print(\"Index of 30 = \",resarr)"
      ],
      "metadata": {
        "colab": {
          "base_uri": "https://localhost:8080/"
        },
        "id": "xSAfQdf2ZeAk",
        "outputId": "e14d36b8-23b8-44ce-8e63-aa5ad74fc349"
      },
      "execution_count": null,
      "outputs": [
        {
          "output_type": "stream",
          "name": "stdout",
          "text": [
            "Iterating Array....\n",
            "10\n",
            "20\n",
            "30\n",
            "40\n",
            "50\n",
            "30\n",
            "Index of 30 =  (array([2, 5]),)\n"
          ]
        }
      ]
    },
    {
      "cell_type": "markdown",
      "source": [
        "**SORTING**"
      ],
      "metadata": {
        "id": "YTP_-GqasZAd"
      }
    },
    {
      "cell_type": "code",
      "source": [
        "# Sort a 1D Integer Array in Numpy\n",
        "import numpy as np\n",
        "\n",
        "n = np.array([50, 25, 35, 15, 55, 75, 65, 60, 30, 45])\n",
        "\n",
        "print(\"Iterating Array....\")\n",
        "for a in n:\n",
        "  print(a)\n",
        "\n",
        "resarr = np.sort(n)\n",
        "print(\"Sorted array = \",resarr)"
      ],
      "metadata": {
        "colab": {
          "base_uri": "https://localhost:8080/"
        },
        "id": "MN_T4FidrdqK",
        "outputId": "78afa969-5669-4eaf-d296-d4dc7c5597fe"
      },
      "execution_count": null,
      "outputs": [
        {
          "output_type": "stream",
          "name": "stdout",
          "text": [
            "Iterating Array....\n",
            "50\n",
            "25\n",
            "35\n",
            "15\n",
            "55\n",
            "75\n",
            "65\n",
            "60\n",
            "30\n",
            "45\n",
            "Sorted array =  [15 25 30 35 45 50 55 60 65 75]\n"
          ]
        }
      ]
    },
    {
      "cell_type": "code",
      "source": [
        "# Sort a 1D String Array in Numpy\n",
        "import numpy as np\n",
        "\n",
        "n = np.array([\"abhi\",\"anu\",\"arun\",\"prince\",\"rishu\"])\n",
        "\n",
        "print(\"Iterating Array....\")\n",
        "for a in n:\n",
        "  print(a)\n",
        "\n",
        "resarr = np.sort(n)\n",
        "print(\"Sorted array = \",resarr)"
      ],
      "metadata": {
        "colab": {
          "base_uri": "https://localhost:8080/"
        },
        "id": "ObUOAQ6qtIDk",
        "outputId": "dcf02559-43c3-4430-a931-44652c96928e"
      },
      "execution_count": null,
      "outputs": [
        {
          "output_type": "stream",
          "name": "stdout",
          "text": [
            "Iterating Array....\n",
            "abhi\n",
            "anu\n",
            "arun\n",
            "prince\n",
            "rishu\n",
            "Sorted array =  ['abhi' 'anu' 'arun' 'prince' 'rishu']\n"
          ]
        }
      ]
    },
    {
      "cell_type": "code",
      "source": [
        "# Sort a 2D array in numpy\n",
        "import numpy as np\n",
        "n = np.array([[1, 5, 7],[4, 24, 12]])\n",
        "print(\"Iterating Array....\")\n",
        "for a in n:\n",
        "  print(a)\n",
        "\n",
        "resarr = np.sort(n)\n",
        "print(\"Sorted array = \",resarr)"
      ],
      "metadata": {
        "id": "MY75vyQptcmd",
        "colab": {
          "base_uri": "https://localhost:8080/"
        },
        "outputId": "2b1bd897-2d6f-4a5d-cd22-1e9bd3637168"
      },
      "execution_count": null,
      "outputs": [
        {
          "output_type": "stream",
          "name": "stdout",
          "text": [
            "Iterating Array....\n",
            "[1 5 7]\n",
            "[ 4 24 12]\n",
            "Sorted array =  [[ 1  5  7]\n",
            " [ 4 12 24]]\n"
          ]
        }
      ]
    },
    {
      "cell_type": "markdown",
      "source": [
        "**AXES IN NUMPY ARRAYS**"
      ],
      "metadata": {
        "id": "ojDRyLhdE2zV"
      }
    },
    {
      "cell_type": "code",
      "source": [
        "#Get the Minimum value with axes in Numpy\n",
        "import numpy as np\n",
        "\n",
        "n = np.array([[1, 5, 7],[4, 24, 12],[100, 200, 300]])\n",
        "print(\"Iterating 2D Array....\")\n",
        "for a in n:\n",
        "  print(a)\n",
        "\n",
        "resarr = np.min(n, axis=0)\n",
        "print(\"Minimum value with axes 0 (vertical axes) = \",resarr)\n",
        "\n",
        "resarr = np.min(n, axis=1)\n",
        "print(\"Minimum value with axes 1 (Horizontal axes) = \",resarr)"
      ],
      "metadata": {
        "colab": {
          "base_uri": "https://localhost:8080/"
        },
        "id": "XeK4ARwz4sdf",
        "outputId": "3542cf2e-8867-4b2f-a181-a6fcb5c37d2f"
      },
      "execution_count": null,
      "outputs": [
        {
          "output_type": "stream",
          "name": "stdout",
          "text": [
            "Iterating 2D Array....\n",
            "[1 5 7]\n",
            "[ 4 24 12]\n",
            "[100 200 300]\n",
            "Minimum value with axes 0 (vertical axes) =  [1 5 7]\n",
            "Minimum value with axes 1 (Horizontal axes) =  [  1   4 100]\n"
          ]
        }
      ]
    },
    {
      "cell_type": "markdown",
      "source": [
        "**INTERSECTION OF NUMPY ARRAYS**"
      ],
      "metadata": {
        "id": "kG0amzQsHGa2"
      }
    },
    {
      "cell_type": "code",
      "source": [
        "#Intersection Between Two Sorted Arrays\n",
        "import numpy as np\n",
        "\n",
        "n1 = np.array([1, 2, 3, 4, 5])\n",
        "n2 = np.array([3, 4, 5, 6, 7])\n",
        "\n",
        "print(\"Iterating Array 1....\")\n",
        "for a in n1:\n",
        "  print(a)\n",
        "\n",
        "print(\"Iterating Array 2....\")\n",
        "for a in n2:\n",
        "  print(a)\n",
        "\n",
        "resarr = np.intersect1d(n1,n2)\n",
        "print(\"Intersection of two arrays = \",resarr)"
      ],
      "metadata": {
        "colab": {
          "base_uri": "https://localhost:8080/"
        },
        "id": "GeUebAZpGA8B",
        "outputId": "725d86a8-b606-4aa2-d8ea-8aabcf3859a0"
      },
      "execution_count": null,
      "outputs": [
        {
          "output_type": "stream",
          "name": "stdout",
          "text": [
            "Iterating Array 1....\n",
            "1\n",
            "2\n",
            "3\n",
            "4\n",
            "5\n",
            "Iterating Array 2....\n",
            "3\n",
            "4\n",
            "5\n",
            "6\n",
            "7\n",
            "Intersection of two arrays =  [3 4 5]\n"
          ]
        }
      ]
    },
    {
      "cell_type": "code",
      "source": [
        "#Intersection between two Unsorted Arrays\n",
        "import numpy as np\n",
        "\n",
        "n1 = np.array([1, 2, 3, 4, 5])\n",
        "n2 = np.array([3, 4, 5, 6, 7])\n",
        "\n",
        "print(\"Iterating Array 1....\")\n",
        "for a in n1:\n",
        "  print(a)\n",
        "\n",
        "print(\"Iterating Array 2....\")\n",
        "for a in n2:\n",
        "  print(a)\n",
        "\n",
        "\n",
        "resarr = np.intersect1d(n1,n2, assume_unique=True)\n",
        "print(\"Intersection of two arrays = \",resarr)"
      ],
      "metadata": {
        "colab": {
          "base_uri": "https://localhost:8080/"
        },
        "id": "V5w9uEicHnmC",
        "outputId": "04decddc-49db-4369-ec6f-c33ef6816bed"
      },
      "execution_count": null,
      "outputs": [
        {
          "output_type": "stream",
          "name": "stdout",
          "text": [
            "Iterating Array 1....\n",
            "1\n",
            "2\n",
            "3\n",
            "4\n",
            "5\n",
            "Iterating Array 2....\n",
            "3\n",
            "4\n",
            "5\n",
            "6\n",
            "7\n",
            "Intersection of two arrays =  [3 4 5]\n"
          ]
        }
      ]
    },
    {
      "cell_type": "code",
      "source": [
        "# Intersection between Numpy Arrays with different elements\n",
        "import numpy as np\n",
        "\n",
        "n1 = np.array([1, 2, 3, 4, 5])\n",
        "n2 = np.array([6, 7, 8, 9, 10])\n",
        "\n",
        "print(\"Iterating Array 1....\")\n",
        "for a in n1:\n",
        "  print(a)\n",
        "\n",
        "print(\"Iterating Array 2....\")\n",
        "for a in n2:\n",
        "  print(a)\n",
        "\n",
        "resarr = np.intersect1d(n1,n2, assume_unique=True)\n",
        "print(\"Intersection of two arrays = \",resarr)\n"
      ],
      "metadata": {
        "colab": {
          "base_uri": "https://localhost:8080/"
        },
        "id": "idZrOmvxJb7h",
        "outputId": "15f53d24-2531-4efe-e259-6b7ffad014ac"
      },
      "execution_count": null,
      "outputs": [
        {
          "output_type": "stream",
          "name": "stdout",
          "text": [
            "Iterating Array 1....\n",
            "1\n",
            "2\n",
            "3\n",
            "4\n",
            "5\n",
            "Iterating Array 2....\n",
            "6\n",
            "7\n",
            "8\n",
            "9\n",
            "10\n",
            "Intersection of two arrays =  []\n"
          ]
        }
      ]
    },
    {
      "cell_type": "markdown",
      "source": [
        "**DIFFERENCE BETWEEN NUMPY ARRAYS**"
      ],
      "metadata": {
        "id": "qGZKQcjuKjWD"
      }
    },
    {
      "cell_type": "code",
      "source": [
        "# Find the between two arrays\n",
        "import numpy as np\n",
        "\n",
        "n1 = np.array([1, 2, 3, 4, 5, 10])\n",
        "n2 = np.array([3, 4, 5, 6, 7, 20])\n",
        "\n",
        "print(\"Iterating Array 1....\")\n",
        "for a in n1:\n",
        "  print(a)\n",
        "\n",
        "print(\"Iterating Array 2....\")\n",
        "for a in n2:\n",
        "  print(a)\n",
        "\n",
        "resarr = np.setdiff1d(n1,n2)\n",
        "print(\"\\nDifference = \\n\",resarr)\n"
      ],
      "metadata": {
        "colab": {
          "base_uri": "https://localhost:8080/"
        },
        "id": "w8MbRcJ0KbhN",
        "outputId": "6c285f1d-2907-4b63-dd15-9d8921a8b706"
      },
      "execution_count": null,
      "outputs": [
        {
          "output_type": "stream",
          "name": "stdout",
          "text": [
            "Iterating Array 1....\n",
            "1\n",
            "2\n",
            "3\n",
            "4\n",
            "5\n",
            "10\n",
            "Iterating Array 2....\n",
            "3\n",
            "4\n",
            "5\n",
            "6\n",
            "7\n",
            "20\n",
            "\n",
            "Difference = \n",
            " [ 1  2 10]\n"
          ]
        }
      ]
    },
    {
      "cell_type": "code",
      "source": [
        "# Find the difference between two arrays(n2-n1)\n",
        "import numpy as np\n",
        "\n",
        "n1 = np.array([1, 2, 3, 4, 5, 10])\n",
        "n2 = np.array([3, 4, 5, 6, 7, 20])\n",
        "\n",
        "print(\"Iterating Array 1....\")\n",
        "for a in n1:\n",
        "  print(a)\n",
        "\n",
        "print(\"Iterating Array 2....\")\n",
        "for a in n2:\n",
        "  print(a)\n",
        "\n",
        "resarr = np.setdiff1d(n2,n1)\n",
        "print(\"\\nDifference = \\n\",resarr)"
      ],
      "metadata": {
        "colab": {
          "base_uri": "https://localhost:8080/"
        },
        "id": "NRAF8z6iO_2M",
        "outputId": "9a0faf3d-701e-4d5b-9c9c-ce34171b7513"
      },
      "execution_count": null,
      "outputs": [
        {
          "output_type": "stream",
          "name": "stdout",
          "text": [
            "Iterating Array 1....\n",
            "1\n",
            "2\n",
            "3\n",
            "4\n",
            "5\n",
            "10\n",
            "Iterating Array 2....\n",
            "3\n",
            "4\n",
            "5\n",
            "6\n",
            "7\n",
            "20\n",
            "\n",
            "Difference = \n",
            " [ 6  7 20]\n"
          ]
        }
      ]
    },
    {
      "cell_type": "markdown",
      "source": [
        "**ARTHEMATIC OPERATORS**"
      ],
      "metadata": {
        "id": "5roMf3DPQTlU"
      }
    },
    {
      "cell_type": "markdown",
      "source": [
        "1. ADDITION"
      ],
      "metadata": {
        "id": "Z3ReesCcQZES"
      }
    },
    {
      "cell_type": "code",
      "source": [
        "# Add the elements of numpy arrays\n",
        "import numpy as np\n",
        "\n",
        "n1 = np.array([1, 2, 3, 4, 5])\n",
        "n2 = np.array([3, 4, 5, 6, 7])\n",
        "\n",
        "print(\"Array1 = \",n1)\n",
        "print(\"Array2 = \",n2)\n",
        "\n",
        "resarr = np.add(n1,n2)\n",
        "print(\"Addition of two arrays = \",resarr)\n",
        "\n",
        "# ADD THE COLUMN VALUES OF NUMPY\n",
        "n1 = np.array([1, 2, 3, 4, 5])\n",
        "n2 = np.array([3, 4, 5, 6, 7])\n",
        "\n",
        "print(\"Array1 = \",n1)\n",
        "print(\"Array2 = \",n2)\n",
        "\n",
        "resarr = np.sum([n1,n2], axis = 0)\n",
        "print(\"Addition of two arrays = \",resarr)\n",
        "\n",
        "# Add the individual array values using the axes parameter\n",
        "n1 = np.array([1, 2, 3, 4, 5])\n",
        "n2 = np.array([3, 4, 5, 6, 7])\n",
        "\n",
        "print(\"Array1 = \",n1)\n",
        "print(\"Array2 = \",n2)\n",
        "\n",
        "resarr = np.sum([n1,n2], axis = 1)\n",
        "print(\"Addition of two arrays = \",resarr)\n"
      ],
      "metadata": {
        "colab": {
          "base_uri": "https://localhost:8080/"
        },
        "id": "X1FujpMvPu93",
        "outputId": "96f2b91c-61b4-4cd7-a976-11c26697c356"
      },
      "execution_count": null,
      "outputs": [
        {
          "output_type": "stream",
          "name": "stdout",
          "text": [
            "Array1 =  [1 2 3 4 5]\n",
            "Array2 =  [3 4 5 6 7]\n",
            "Addition of two arrays =  [ 4  6  8 10 12]\n",
            "Array1 =  [1 2 3 4 5]\n",
            "Array2 =  [3 4 5 6 7]\n",
            "Addition of two arrays =  [ 4  6  8 10 12]\n",
            "Array1 =  [1 2 3 4 5]\n",
            "Array2 =  [3 4 5 6 7]\n",
            "Addition of two arrays =  [15 25]\n"
          ]
        }
      ]
    },
    {
      "cell_type": "markdown",
      "source": [
        "2. SUBSTRACTION"
      ],
      "metadata": {
        "id": "hxaDDRT0Q0aF"
      }
    },
    {
      "cell_type": "code",
      "source": [
        "# SUBSTRACT NUMPY ARRAYS\n",
        "import numpy as np\n",
        "\n",
        "n1 = np.array([1, 2, 3, 4, 5])\n",
        "n2 = np.array([3, 4, 5, 6, 7])\n",
        "\n",
        "print(\"Array1 = \",n1)\n",
        "print(\"Array2 = \",n2)\n",
        "\n",
        "resarr = np.subtract(n1,n2)\n",
        "print(\"Subtraction of two arrays = \",resarr)\n"
      ],
      "metadata": {
        "colab": {
          "base_uri": "https://localhost:8080/"
        },
        "id": "um25pGqzQv-p",
        "outputId": "9c151777-fbb4-4388-d515-f4979645ff0f"
      },
      "execution_count": null,
      "outputs": [
        {
          "output_type": "stream",
          "name": "stdout",
          "text": [
            "Array1 =  [1 2 3 4 5]\n",
            "Array2 =  [3 4 5 6 7]\n",
            "Subtraction of two arrays =  [-2 -2 -2 -2 -2]\n"
          ]
        }
      ]
    },
    {
      "cell_type": "markdown",
      "source": [
        "3. MULTIPLICATION"
      ],
      "metadata": {
        "id": "v5VaaiRUVoTb"
      }
    },
    {
      "cell_type": "code",
      "source": [
        "import numpy as np\n",
        "\n",
        "n1 = np.array([1, 2, 3, 4, 5])\n",
        "n2 = np.array([3, 4, 5, 6, 7])\n",
        "\n",
        "print(\"Array1 = \",n1)\n",
        "print(\"Array2 = \",n2)\n",
        "\n",
        "resarr = np.multiply(n1,n2)\n",
        "print(\"Multiplication of two arrays = \",resarr)"
      ],
      "metadata": {
        "colab": {
          "base_uri": "https://localhost:8080/"
        },
        "id": "UfIj3pKEU9ie",
        "outputId": "f6139ecf-4051-4347-a95a-35412d388a71"
      },
      "execution_count": null,
      "outputs": [
        {
          "output_type": "stream",
          "name": "stdout",
          "text": [
            "Array1 =  [1 2 3 4 5]\n",
            "Array2 =  [3 4 5 6 7]\n",
            "Multiplication of two arrays =  [ 3  8 15 24 35]\n"
          ]
        }
      ]
    },
    {
      "cell_type": "markdown",
      "source": [
        "4. DIVISION"
      ],
      "metadata": {
        "id": "9FIlJNCnWGdF"
      }
    },
    {
      "cell_type": "code",
      "source": [
        "import numpy as np\n",
        "\n",
        "n1 = np.array([1, 2, 3, 4, 5])\n",
        "n2 = np.array([3, 4, 5, 6, 7])\n",
        "\n",
        "print(\"Array1 = \",n1)\n",
        "print(\"Array2 = \",n2)\n",
        "\n",
        "resarr = np.divide(n1,n2)\n",
        "print(\"Division of two arrays = \",resarr)"
      ],
      "metadata": {
        "colab": {
          "base_uri": "https://localhost:8080/"
        },
        "id": "q3RLDJ2gVukn",
        "outputId": "3f1b14e8-1ab7-4c5e-c863-1889b8cb03d9"
      },
      "execution_count": null,
      "outputs": [
        {
          "output_type": "stream",
          "name": "stdout",
          "text": [
            "Array1 =  [1 2 3 4 5]\n",
            "Array2 =  [3 4 5 6 7]\n",
            "Division of two arrays =  [0.33333333 0.5        0.6        0.66666667 0.71428571]\n"
          ]
        }
      ]
    },
    {
      "cell_type": "markdown",
      "source": [
        "**SCALAR OPERATIONS**"
      ],
      "metadata": {
        "id": "D4jEvF6oM7bT"
      }
    },
    {
      "cell_type": "markdown",
      "source": [
        "1. ADDITION"
      ],
      "metadata": {
        "id": "9ts-E1AQNe8V"
      }
    },
    {
      "cell_type": "code",
      "source": [
        "import numpy as np\n",
        "\n",
        "n1 = np.array([1, 2, 3, 4, 5])\n",
        "n2 = np.array([3, 4, 5, 6, 7])\n",
        "\n",
        "print(\"Array1 = \",n1)\n",
        "print(\"Array2 = \",n2)\n",
        "\n",
        "n1 = n1 + 100\n",
        "n2 = n2 + 200\n",
        "\n",
        "print(\"Array1 Updated = \",n1)\n",
        "print(\"Array2 Updated = \",n2)"
      ],
      "metadata": {
        "id": "JmrBDnzGWSgT",
        "colab": {
          "base_uri": "https://localhost:8080/"
        },
        "outputId": "6b23b948-1bbd-4793-bfbe-4029b87cfd28"
      },
      "execution_count": null,
      "outputs": [
        {
          "output_type": "stream",
          "name": "stdout",
          "text": [
            "Array1 =  [1 2 3 4 5]\n",
            "Array2 =  [3 4 5 6 7]\n",
            "Array1 Updated =  [101 102 103 104 105]\n",
            "Array2 Updated =  [203 204 205 206 207]\n"
          ]
        }
      ]
    },
    {
      "cell_type": "markdown",
      "source": [
        "2. SUBSTRACTION"
      ],
      "metadata": {
        "id": "Xuq_eXDIOE4i"
      }
    },
    {
      "cell_type": "code",
      "source": [
        "import numpy as np\n",
        "\n",
        "n1 = np.array([1, 2, 3, 4, 5])\n",
        "n2 = np.array([3, 4, 5, 6, 7])\n",
        "\n",
        "print(\"Array1 = \",n1)\n",
        "print(\"Array2 = \",n2)\n",
        "\n",
        "n1 = n1 - 1\n",
        "n2 = n2 - 2\n",
        "\n",
        "print(\"Array1 Updated = \",n1)\n",
        "print(\"Array2 Updated = \",n2)"
      ],
      "metadata": {
        "colab": {
          "base_uri": "https://localhost:8080/"
        },
        "id": "7L-LdMMuN39k",
        "outputId": "bb0366a6-4c32-4662-b37d-c4cf65aa29e7"
      },
      "execution_count": null,
      "outputs": [
        {
          "output_type": "stream",
          "name": "stdout",
          "text": [
            "Array1 =  [1 2 3 4 5]\n",
            "Array2 =  [3 4 5 6 7]\n",
            "Array1 Updated =  [0 1 2 3 4]\n",
            "Array2 Updated =  [1 2 3 4 5]\n"
          ]
        }
      ]
    },
    {
      "cell_type": "markdown",
      "source": [
        "3. MULTIPLICATION"
      ],
      "metadata": {
        "id": "iBgzEZegOZDc"
      }
    },
    {
      "cell_type": "code",
      "source": [
        "import numpy as np\n",
        "\n",
        "n1 = np.array([1, 2, 3, 4, 5])\n",
        "n2 = np.array([3, 4, 5, 6, 7])\n",
        "\n",
        "print(\"Array1 = \",n1)\n",
        "print(\"Array2 = \",n2)\n",
        "\n",
        "n1 = n1 * 100\n",
        "n2 = n2 * 200\n",
        "\n",
        "print(\"Array1 Updated = \",n1)\n",
        "print(\"Array2 Updated = \",n2)"
      ],
      "metadata": {
        "colab": {
          "base_uri": "https://localhost:8080/"
        },
        "id": "zKOM2nqlOYl7",
        "outputId": "2da46b8a-b8a8-469c-88f2-dfb059472d8b"
      },
      "execution_count": null,
      "outputs": [
        {
          "output_type": "stream",
          "name": "stdout",
          "text": [
            "Array1 =  [1 2 3 4 5]\n",
            "Array2 =  [3 4 5 6 7]\n",
            "Array1 Updated =  [100 200 300 400 500]\n",
            "Array2 Updated =  [ 600  800 1000 1200 1400]\n"
          ]
        }
      ]
    },
    {
      "cell_type": "markdown",
      "source": [
        "4. DIVISION"
      ],
      "metadata": {
        "id": "yDVPINjIOimZ"
      }
    },
    {
      "cell_type": "code",
      "source": [
        "import numpy as np\n",
        "\n",
        "n1 = np.array([1, 2, 3, 4, 5])\n",
        "n2 = np.array([3, 4, 5, 6, 7])\n",
        "\n",
        "print(\"Array1 = \",n1)\n",
        "print(\"Array2 = \",n2)\n",
        "\n",
        "n1 = n1 / 3\n",
        "n2 = n2 / 7\n",
        "\n",
        "print(\"Array1 Updated = \",n1)\n",
        "print(\"Array2 Updated = \",n2)"
      ],
      "metadata": {
        "colab": {
          "base_uri": "https://localhost:8080/"
        },
        "id": "1uhFO6XLOSxl",
        "outputId": "ba706291-8836-4080-f6fd-b8c6f8bb21c6"
      },
      "execution_count": null,
      "outputs": [
        {
          "output_type": "stream",
          "name": "stdout",
          "text": [
            "Array1 =  [1 2 3 4 5]\n",
            "Array2 =  [3 4 5 6 7]\n",
            "Array1 Updated =  [0.33333333 0.66666667 1.         1.33333333 1.66666667]\n",
            "Array2 Updated =  [0.42857143 0.57142857 0.71428571 0.85714286 1.        ]\n"
          ]
        }
      ]
    },
    {
      "cell_type": "markdown",
      "source": [
        "**STATISTICAL OPERATIONS**"
      ],
      "metadata": {
        "id": "q36-lfRvPjm7"
      }
    },
    {
      "cell_type": "markdown",
      "source": [
        "1. MEAN"
      ],
      "metadata": {
        "id": "tgYEW4dYPoMp"
      }
    },
    {
      "cell_type": "code",
      "source": [
        "import numpy as np\n",
        "\n",
        "n1 = np.array([15, 20, 25, 30])\n",
        "n2 = np.array([65, 75, 85, 95])\n",
        "\n",
        "print(\"Array1 = \",n1)\n",
        "print(\"Array2 = \",n2)\n",
        "\n",
        "n1 = np.mean(n1)\n",
        "n2 = np.mean(n2)\n",
        "\n",
        "print(\"Mean of array1 = \",n1)\n",
        "print(\"Mean of array2 = \",n2)\n",
        "\n",
        "resarr = np.mean([n1,n2])\n",
        "print(\"Mean of two arrays = \",resarr)"
      ],
      "metadata": {
        "colab": {
          "base_uri": "https://localhost:8080/"
        },
        "id": "uHsLGX6bOrHl",
        "outputId": "a257951a-5282-4371-dc0e-6a4f3ab7d3ea"
      },
      "execution_count": null,
      "outputs": [
        {
          "output_type": "stream",
          "name": "stdout",
          "text": [
            "Array1 =  [15 20 25 30]\n",
            "Array2 =  [65 75 85 95]\n",
            "Mean of array1 =  22.5\n",
            "Mean of array2 =  80.0\n",
            "Mean of two arrays =  51.25\n"
          ]
        }
      ]
    },
    {
      "cell_type": "markdown",
      "source": [
        "2. MEDIAN"
      ],
      "metadata": {
        "id": "r2YCumTmQ3Mt"
      }
    },
    {
      "cell_type": "code",
      "source": [
        "import numpy as np\n",
        "\n",
        "n1 = np.array([15, 20, 25, 30])\n",
        "n2 = np.array([65, 75, 85, 95])\n",
        "\n",
        "print(\"Array1 = \",n1)\n",
        "print(\"Array2 = \",n2)\n",
        "\n",
        "n1 = np.median(n1)\n",
        "n2 = np.median(n2)\n",
        "\n",
        "print(\"Median of array1 = \",n1)\n",
        "print(\"Median of array2 = \",n2)"
      ],
      "metadata": {
        "colab": {
          "base_uri": "https://localhost:8080/"
        },
        "id": "RPIWtMFKQF0k",
        "outputId": "149ae90b-d8bd-47c6-fa21-2e46a5c25bad"
      },
      "execution_count": null,
      "outputs": [
        {
          "output_type": "stream",
          "name": "stdout",
          "text": [
            "Array1 =  [15 20 25 30]\n",
            "Array2 =  [65 75 85 95]\n",
            "Median of array1 =  22.5\n",
            "Median of array2 =  80.0\n"
          ]
        }
      ]
    },
    {
      "cell_type": "markdown",
      "source": [
        "3. STANDARD DEVIATION"
      ],
      "metadata": {
        "id": "oC2ZIbmvRGGY"
      }
    },
    {
      "cell_type": "code",
      "source": [
        "import numpy as np\n",
        "\n",
        "n1 = np.array([15, 20, 25, 30])\n",
        "n2 = np.array([65, 75, 85, 95])\n",
        "\n",
        "print(\"Array1 = \",n1)\n",
        "print(\"Array2 = \",n2)\n",
        "\n",
        "n1 = np.std(n1)\n",
        "n2 = np.std(n2)\n",
        "\n",
        "print(\"Standard Deviation of array1 = \",n1)\n",
        "print(\"Standard Deviation of array2 = \",n2)"
      ],
      "metadata": {
        "colab": {
          "base_uri": "https://localhost:8080/"
        },
        "id": "PDVkacc1RBq4",
        "outputId": "93fb9f45-f443-43e1-84a8-2a885f41f1b7"
      },
      "execution_count": null,
      "outputs": [
        {
          "output_type": "stream",
          "name": "stdout",
          "text": [
            "Array1 =  [15 20 25 30]\n",
            "Array2 =  [65 75 85 95]\n",
            "Standard Deviation of array1 =  5.5901699437494745\n",
            "Standard Deviation of array2 =  11.180339887498949\n"
          ]
        }
      ]
    },
    {
      "cell_type": "markdown",
      "source": [
        "**RANDOM NUMBER**"
      ],
      "metadata": {
        "id": "inyCgmgkU2yM"
      }
    },
    {
      "cell_type": "code",
      "source": [
        "# Generate a random number\n",
        "from numpy import random\n",
        "\n",
        "n = random.randint(100)\n",
        "print(\"Random NUmber = \",n)\n",
        "\n",
        "# Random number with a fixed size\n",
        "from numpy import random\n",
        "\n",
        "n = random.randint(100, size=(5))\n",
        "print(\"Random NUmber = \",n)\n",
        "\n",
        "# Generate one of the random values based on an array of values\n",
        "from numpy import random\n",
        "\n",
        "n = random.choice([1,2,3,4,5])\n",
        "print(\"Random NUmber = \",n)"
      ],
      "metadata": {
        "colab": {
          "base_uri": "https://localhost:8080/"
        },
        "id": "VV0mfxkNRox9",
        "outputId": "0801eee6-27a4-4927-a83c-532a81b5aae2"
      },
      "execution_count": null,
      "outputs": [
        {
          "output_type": "stream",
          "name": "stdout",
          "text": [
            "Random NUmber =  72\n",
            "Random NUmber =  [42 88 55 22 21]\n",
            "Random NUmber =  5\n"
          ]
        }
      ]
    },
    {
      "cell_type": "markdown",
      "source": [
        "**NUMPY LOGS**"
      ],
      "metadata": {
        "id": "ChciUNrjZBHa"
      }
    },
    {
      "cell_type": "markdown",
      "source": [
        "1. LOG BASE 2"
      ],
      "metadata": {
        "id": "J6V-jik9a4gt"
      }
    },
    {
      "cell_type": "code",
      "source": [
        "import numpy as np\n",
        "\n",
        "n = np.array([1, 2, 3, 4, 5])\n",
        "print(\"Array = \",n)\n",
        "\n",
        "n = np.log2(n)\n",
        "print(\"Log base 2 = \",n)"
      ],
      "metadata": {
        "colab": {
          "base_uri": "https://localhost:8080/"
        },
        "id": "TqLvktyXVVqW",
        "outputId": "3b5252ea-437f-417a-9dc0-59a53606cda8"
      },
      "execution_count": null,
      "outputs": [
        {
          "output_type": "stream",
          "name": "stdout",
          "text": [
            "Array =  [1 2 3 4 5]\n",
            "Log base 2 =  [0.         1.         1.5849625  2.         2.32192809]\n"
          ]
        }
      ]
    },
    {
      "cell_type": "markdown",
      "source": [
        "2. LOG BASE 10"
      ],
      "metadata": {
        "id": "A7QSZVQxbTYn"
      }
    },
    {
      "cell_type": "code",
      "source": [
        "import numpy as np\n",
        "\n",
        "n = np.array([1, 2, 3, 4, 5])\n",
        "print(\"Array = \",n)\n",
        "\n",
        "n = np.log10(n)\n",
        "print(\"Log base 10 = \",n)"
      ],
      "metadata": {
        "colab": {
          "base_uri": "https://localhost:8080/"
        },
        "id": "IS6XJLfdbLD_",
        "outputId": "c16ff381-7e82-425d-dd59-629039273957"
      },
      "execution_count": null,
      "outputs": [
        {
          "output_type": "stream",
          "name": "stdout",
          "text": [
            "Array =  [1 2 3 4 5]\n",
            "Log base 10 =  [0.         0.30103    0.47712125 0.60205999 0.69897   ]\n"
          ]
        }
      ]
    },
    {
      "cell_type": "markdown",
      "source": [
        "**NUMPY - LCM & HCF**"
      ],
      "metadata": {
        "id": "HllfCpSvcRvn"
      }
    },
    {
      "cell_type": "markdown",
      "source": [
        "1. LCM"
      ],
      "metadata": {
        "id": "mp8X5kSecZxG"
      }
    },
    {
      "cell_type": "code",
      "source": [
        "import numpy as np\n",
        "\n",
        "a = 3\n",
        "b = 6\n",
        "\n",
        "n = np.lcm(a,b)\n",
        "print(\"LCM of a and b = \",n)"
      ],
      "metadata": {
        "colab": {
          "base_uri": "https://localhost:8080/"
        },
        "id": "aOrttY1scbzp",
        "outputId": "04f69211-0a7f-46b7-f9d2-f24d095dff40"
      },
      "execution_count": null,
      "outputs": [
        {
          "output_type": "stream",
          "name": "stdout",
          "text": [
            "LCM of a and b =  6\n"
          ]
        }
      ]
    },
    {
      "cell_type": "markdown",
      "source": [
        "2. HCF/GCD"
      ],
      "metadata": {
        "id": "RgLJf3Jec6Aj"
      }
    },
    {
      "cell_type": "code",
      "source": [
        "import numpy as np\n",
        "\n",
        "a = 3\n",
        "b = 6\n",
        "\n",
        "n = np.gcd(a,b)\n",
        "print(\"GCD of a and b = \",n)"
      ],
      "metadata": {
        "colab": {
          "base_uri": "https://localhost:8080/"
        },
        "id": "1W7uGvy7cklY",
        "outputId": "22c83501-dadb-4b06-c8c6-c455b593bdd3"
      },
      "execution_count": null,
      "outputs": [
        {
          "output_type": "stream",
          "name": "stdout",
          "text": [
            "GCD of a and b =  3\n"
          ]
        }
      ]
    },
    {
      "cell_type": "code",
      "source": [],
      "metadata": {
        "id": "2-nyc2o5dBGf"
      },
      "execution_count": null,
      "outputs": []
    }
  ]
}